{
 "cells": [
  {
   "cell_type": "markdown",
   "metadata": {},
   "source": [
    "# Purpose:\n",
    "     Example usage of CompanySim package to build a graph on a company corpus and then use the Jaccard Similarity   and a Dot Product Score to determine similarity between pairs of companies"
   ]
  },
  {
   "cell_type": "markdown",
   "metadata": {},
   "source": [
    "1) Import a curated dataset of ~100,000 companies, each with a pitch book description, and some with a crunch base provided description. Both descriptions text has been combined into one text in the 'comb_desc' column"
   ]
  },
  {
   "cell_type": "code",
   "execution_count": 6,
   "metadata": {},
   "outputs": [
    {
     "ename": "ImportError",
     "evalue": "cannot import name 'CompanyCorpus'",
     "output_type": "error",
     "traceback": [
      "\u001b[0;31m---------------------------------------------------------------------------\u001b[0m",
      "\u001b[0;31mImportError\u001b[0m                               Traceback (most recent call last)",
      "\u001b[0;32m<ipython-input-6-920f9c178749>\u001b[0m in \u001b[0;36m<module>\u001b[0;34m()\u001b[0m\n\u001b[0;32m----> 1\u001b[0;31m \u001b[0;32mfrom\u001b[0m \u001b[0mcompanysim\u001b[0m \u001b[0;32mimport\u001b[0m \u001b[0mCompanyCorpus\u001b[0m\u001b[0;34m,\u001b[0m \u001b[0mCompanyGraph\u001b[0m\u001b[0;34m\u001b[0m\u001b[0m\n\u001b[0m\u001b[1;32m      2\u001b[0m \u001b[0;32mimport\u001b[0m \u001b[0mpandas\u001b[0m \u001b[0;32mas\u001b[0m \u001b[0mpd\u001b[0m\u001b[0;34m\u001b[0m\u001b[0m\n\u001b[1;32m      3\u001b[0m \u001b[0;32mimport\u001b[0m \u001b[0mnumpy\u001b[0m \u001b[0;32mas\u001b[0m \u001b[0mnp\u001b[0m\u001b[0;34m\u001b[0m\u001b[0m\n\u001b[1;32m      4\u001b[0m \u001b[0;34m\u001b[0m\u001b[0m\n\u001b[1;32m      5\u001b[0m \u001b[0;31m### 100,000 companies with combined cb and pb descriptions as well as the companies from the training set\u001b[0m\u001b[0;34m\u001b[0m\u001b[0;34m\u001b[0m\u001b[0m\n",
      "\u001b[0;31mImportError\u001b[0m: cannot import name 'CompanyCorpus'"
     ]
    }
   ],
   "source": [
    "from companysim import CompanyCorpus, CompanyGraph\n",
    "import pandas as pd\n",
    "import numpy as np\n",
    "\n",
    "### 100,000 companies with combined cb and pb descriptions as well as the companies from the training set\n",
    "company_list = pd.read_csv('../data/100k_cb_and_pb_desc.csv',  encoding = \"ISO-8859-1\", \\\n",
    "                           usecols=['domain', 'tx_industry', 'cb_category', 'tx_category', 'pb_desc',\n",
    "                                    'cb_desc', 'pb_category', 'comb_desc'], dtype={2: str, 4: str})\n",
    "\n",
    "print(company_list.shape)\n",
    "company_list.head()"
   ]
  },
  {
   "cell_type": "markdown",
   "metadata": {},
   "source": [
    "2) Utilize the CompanySim package to create a CompanyCorpus and a CompanyGraph\n",
    " - CompanyCorpus takes a pandas DataFrame as input (see company_list structure above) and takes care of computing the idf vector as well as filtering descriptions by top IDF value\n",
    " - CompanyGraph takes the created CompanyCorpus object as input and builds the LSH forest and the Graph from the LSH forest\n",
    " \n",
    " Note: This takes ~25-40 minutes to run depending on NUMBER_SIMILAR_COMPANIES (keep less than 200) and computer run on\n",
    "\n",
    " Note 2: The percent complete has a little bug and stops at 99% but it actually completed, I just haven't fixed it yet"
   ]
  },
  {
   "cell_type": "code",
   "execution_count": 5,
   "metadata": {},
   "outputs": [
    {
     "ename": "NameError",
     "evalue": "name 'tfidf' is not defined",
     "output_type": "error",
     "traceback": [
      "\u001b[0;31m---------------------------------------------------------------------------\u001b[0m",
      "\u001b[0;31mNameError\u001b[0m                                 Traceback (most recent call last)",
      "\u001b[0;32m<ipython-input-5-3b7423e28e0f>\u001b[0m in \u001b[0;36m<module>\u001b[0;34m()\u001b[0m\n\u001b[1;32m     17\u001b[0m \u001b[0;34m\u001b[0m\u001b[0m\n\u001b[1;32m     18\u001b[0m \u001b[0;31m# Build the idf_vector\u001b[0m\u001b[0;34m\u001b[0m\u001b[0;34m\u001b[0m\u001b[0m\n\u001b[0;32m---> 19\u001b[0;31m \u001b[0mcc\u001b[0m\u001b[0;34m.\u001b[0m\u001b[0mbuild_idf\u001b[0m\u001b[0;34m(\u001b[0m\u001b[0mdescription_column_name\u001b[0m\u001b[0;34m=\u001b[0m\u001b[0mDESCRIPTION_COLUMN\u001b[0m\u001b[0;34m)\u001b[0m\u001b[0;34m\u001b[0m\u001b[0m\n\u001b[0m\u001b[1;32m     20\u001b[0m \u001b[0mprint\u001b[0m\u001b[0;34m(\u001b[0m\u001b[0;34m\"IDF Completed!\"\u001b[0m\u001b[0;34m)\u001b[0m\u001b[0;34m\u001b[0m\u001b[0m\n\u001b[1;32m     21\u001b[0m \u001b[0;31m# Filter descriptions by cutting out the number of words specified in NUMBER_OF_WORDS\u001b[0m\u001b[0;34m\u001b[0m\u001b[0;34m\u001b[0m\u001b[0m\n",
      "\u001b[0;32m~/school/CS341/companysim_project/companysim/companysim.py\u001b[0m in \u001b[0;36mbuild_idf\u001b[0;34m(self, description_column_name, out_file, csv_location)\u001b[0m\n\u001b[1;32m     66\u001b[0m         \u001b[0;34m:\u001b[0m\u001b[0;32mreturn\u001b[0m\u001b[0;34m:\u001b[0m\u001b[0;34m\u001b[0m\u001b[0m\n\u001b[1;32m     67\u001b[0m         \"\"\"\n\u001b[0;32m---> 68\u001b[0;31m         \u001b[0midfcalc\u001b[0m \u001b[0;34m=\u001b[0m \u001b[0mtfidf\u001b[0m\u001b[0;34m.\u001b[0m\u001b[0mTfIdf\u001b[0m\u001b[0;34m(\u001b[0m\u001b[0;34m)\u001b[0m\u001b[0;34m\u001b[0m\u001b[0m\n\u001b[0m\u001b[1;32m     69\u001b[0m \u001b[0;34m\u001b[0m\u001b[0m\n\u001b[1;32m     70\u001b[0m         \u001b[0;32mfor\u001b[0m \u001b[0mentry\u001b[0m \u001b[0;32min\u001b[0m \u001b[0mself\u001b[0m\u001b[0;34m.\u001b[0m\u001b[0mcorpus\u001b[0m\u001b[0;34m.\u001b[0m\u001b[0mloc\u001b[0m\u001b[0;34m[\u001b[0m\u001b[0;34m:\u001b[0m\u001b[0;34m,\u001b[0m \u001b[0mdescription_column_name\u001b[0m\u001b[0;34m]\u001b[0m\u001b[0;34m.\u001b[0m\u001b[0mvalues\u001b[0m\u001b[0;34m:\u001b[0m\u001b[0;34m\u001b[0m\u001b[0m\n",
      "\u001b[0;31mNameError\u001b[0m: name 'tfidf' is not defined"
     ]
    }
   ],
   "source": [
    "# Setup CompanyCorpus Instance\n",
    "from timeit import default_timer as timer\n",
    "\n",
    "start = timer()\n",
    "\n",
    "# Tuning parameters\n",
    "NUMBER_OF_WORDS = 50\n",
    "NUMBER_SIMILAR_COMPANIES = 100\n",
    "\n",
    "# Inputs:\n",
    "DESCRIPTION_COLUMN = 'comb_desc'\n",
    "\n",
    "NAME_COLUMN = 'domain'\n",
    "\n",
    "# Create an instance of the CompanyCorpus class using the company list\n",
    "cc = cs.CompanyCorpus(company_list)\n",
    "\n",
    "# Build the idf_vector\n",
    "cc.build_idf(description_column_name=DESCRIPTION_COLUMN)\n",
    "print(\"IDF Completed!\")\n",
    "# Filter descriptions by cutting out the number of words specified in NUMBER_OF_WORDS\n",
    "cc.filter_desc_by_idf(description_column_name=DESCRIPTION_COLUMN,\n",
    "                      number_words_to_cut=NUMBER_OF_WORDS)\n",
    "\n",
    "# Create a CompanyGraph\n",
    "cg = cs.CompanyGraph(cc)\n",
    "cg.build_lsh_forest(company_name_column_name=NAME_COLUMN)\n",
    "cg.build_graph(sensitivity=NUMBER_SIMILAR_COMPANIES)\n",
    "\n",
    "end = timer()\n",
    "print(\"Time: {0:0.2f} minutes\".format((end - start)/60)) \n",
    "\n",
    "# Show info about the completed graph\n",
    "cg.graph\n"
   ]
  },
  {
   "cell_type": "markdown",
   "metadata": {},
   "source": [
    "3) Import the training data set to now build the KNN classifier"
   ]
  },
  {
   "cell_type": "code",
   "execution_count": 7,
   "metadata": {},
   "outputs": [
    {
     "name": "stdout",
     "output_type": "stream",
     "text": [
      "935\n"
     ]
    }
   ],
   "source": [
    "# Import Training data:\n",
    "#     Set of company pairs with pitch book descriptions for use in training a classifier\n",
    "training_pairs_df = pd.read_csv('../data/rated_pairs_1_3_only_filtered_desc.csv') # rated_pairs_1_3_only_cb_desc\n",
    "print(\"Number of companies in training set: {}\".format(training_pairs_df.shape[0]))"
   ]
  },
  {
   "cell_type": "markdown",
   "metadata": {},
   "source": [
    "4) Set up the training data set by creating a new dataframe of the company pairs with their corresponding dot product score, jaccard similarity and known rating"
   ]
  },
  {
   "cell_type": "code",
   "execution_count": 8,
   "metadata": {},
   "outputs": [
    {
     "data": {
      "text/html": [
       "<div>\n",
       "<table border=\"1\" class=\"dataframe\">\n",
       "  <thead>\n",
       "    <tr style=\"text-align: right;\">\n",
       "      <th></th>\n",
       "      <th>domain1</th>\n",
       "      <th>domain2</th>\n",
       "      <th>rating</th>\n",
       "      <th>dot_product</th>\n",
       "      <th>jaccard</th>\n",
       "    </tr>\n",
       "  </thead>\n",
       "  <tbody>\n",
       "    <tr>\n",
       "      <th>0</th>\n",
       "      <td>2trg.com</td>\n",
       "      <td>2u.com</td>\n",
       "      <td>0</td>\n",
       "      <td>0.000000</td>\n",
       "      <td>0.000000</td>\n",
       "    </tr>\n",
       "    <tr>\n",
       "      <th>1</th>\n",
       "      <td>teamtreehouse.com</td>\n",
       "      <td>onkea.com</td>\n",
       "      <td>0</td>\n",
       "      <td>0.058293</td>\n",
       "      <td>0.068986</td>\n",
       "    </tr>\n",
       "    <tr>\n",
       "      <th>2</th>\n",
       "      <td>andara.bi</td>\n",
       "      <td>domo.com</td>\n",
       "      <td>1</td>\n",
       "      <td>0.000000</td>\n",
       "      <td>0.000000</td>\n",
       "    </tr>\n",
       "    <tr>\n",
       "      <th>3</th>\n",
       "      <td>bugcrowd.com</td>\n",
       "      <td>synack.com</td>\n",
       "      <td>1</td>\n",
       "      <td>0.001760</td>\n",
       "      <td>0.068500</td>\n",
       "    </tr>\n",
       "    <tr>\n",
       "      <th>4</th>\n",
       "      <td>i2istudy.com</td>\n",
       "      <td>livemocha.com</td>\n",
       "      <td>1</td>\n",
       "      <td>0.000000</td>\n",
       "      <td>0.104900</td>\n",
       "    </tr>\n",
       "  </tbody>\n",
       "</table>\n",
       "</div>"
      ],
      "text/plain": [
       "             domain1        domain2  rating  dot_product   jaccard\n",
       "0           2trg.com         2u.com       0     0.000000  0.000000\n",
       "1  teamtreehouse.com      onkea.com       0     0.058293  0.068986\n",
       "2          andara.bi       domo.com       1     0.000000  0.000000\n",
       "3       bugcrowd.com     synack.com       1     0.001760  0.068500\n",
       "4       i2istudy.com  livemocha.com       1     0.000000  0.104900"
      ]
     },
     "execution_count": 8,
     "metadata": {},
     "output_type": "execute_result"
    }
   ],
   "source": [
    "### Set up the training and test data\n",
    "\n",
    "dot_scores = []\n",
    "jaccard_sims = []\n",
    "\n",
    "idf_set = set(cg.company_corpus.idf_vector.index)\n",
    "idf_map_dict = dict(zip(cg.company_corpus.idf_vector.index, cg.company_corpus.idf_vector.values))\n",
    "company_words_list = list(cg.company_corpus.corpus.loc[:, 'rare_words'])\n",
    "\n",
    "for domain1, domain2 in zip(training_pairs_df['domain1'].values, training_pairs_df['domain2'].values):\n",
    "    dot_score = cg.get_dot_product_score(domain1, domain2)\n",
    "    dot_scores.append(dot_score)\n",
    "\n",
    "    jaccard_sim_score = cg.get_jaccard_similarity(domain1, domain2)\n",
    "    jaccard_sims.append(jaccard_sim_score)\n",
    "    \n",
    "    \n",
    "training_data_df = training_pairs_df.loc[:,('domain1', 'domain2', 'rating')]\n",
    "training_data_df['dot_product'] = dot_scores\n",
    "training_data_df['jaccard'] = jaccard_sims\n",
    "\n",
    "\n",
    "# Change all '3' ratings to '0' rating \n",
    "training_data_df['rating'] = training_data_df['rating'].replace(3, 0)\n",
    "\n",
    "training_data_df.head()"
   ]
  },
  {
   "cell_type": "markdown",
   "metadata": {},
   "source": [
    "5) Setup the data further by splitting the features and known ratings into training and test data"
   ]
  },
  {
   "cell_type": "code",
   "execution_count": 20,
   "metadata": {},
   "outputs": [
    {
     "name": "stdout",
     "output_type": "stream",
     "text": [
      "(701, 2)\n",
      "(234, 2)\n"
     ]
    }
   ],
   "source": [
    "from sklearn.model_selection import train_test_split\n",
    "from sklearn.neighbors import KNeighborsClassifier \n",
    "from sklearn.linear_model import LogisticRegression\n",
    "from sklearn.model_selection import cross_val_score\n",
    "\n",
    "# Get both the score and jaccard similarity into one feature matrix\n",
    "features_all = np.array((training_data_df['dot_product'], training_data_df['jaccard'])).T\n",
    "\n",
    "# Get the known ratings for the model\n",
    "known_ratings = training_data_df['rating'].values\n",
    "\n",
    "# Shuffle the data into training and test sets\n",
    "X_train, X_test, y_train, y_test = train_test_split(features_all, known_ratings, test_size=0.25, random_state=0)\n",
    "\n",
    "print(X_train.shape)\n",
    "print(X_test.shape)"
   ]
  },
  {
   "cell_type": "markdown",
   "metadata": {},
   "source": [
    "6) Perform cross validation of the KNN model to get the best number of neighbors to use"
   ]
  },
  {
   "cell_type": "code",
   "execution_count": 21,
   "metadata": {
    "scrolled": true
   },
   "outputs": [
    {
     "name": "stdout",
     "output_type": "stream",
     "text": [
      "The optimal number of neighbors is 21\n"
     ]
    },
    {
     "data": {
      "image/png": "[encoded data removed]",
      "text/plain": [
       "<matplotlib.figure.Figure at 0x19634fb00>"
      ]
     },
     "metadata": {},
     "output_type": "display_data"
    }
   ],
   "source": [
    "import matplotlib.pyplot as plt\n",
    "\n",
    "# Perform Cross Validation of KNN classifier\n",
    "\n",
    "neighbors = list(range(1,50))\n",
    "\n",
    "# empty list that will hold cv scores\n",
    "cv_scores = []\n",
    "\n",
    "# perform 10-fold cross validation\n",
    "for k in neighbors:\n",
    "    knn = KNeighborsClassifier(n_neighbors=k)\n",
    "    scores = cross_val_score(knn, X_train, y_train, cv=10, scoring='accuracy')\n",
    "    cv_scores.append(scores.mean())\n",
    "    \n",
    "# changing to misclassification error\n",
    "MSE = [1 - x for x in cv_scores]\n",
    "\n",
    "# determining best k\n",
    "optimal_k = neighbors[MSE.index(min(MSE))]\n",
    "print(\"The optimal number of neighbors is {}\".format(optimal_k))\n",
    "\n",
    "# plot misclassification error vs k\n",
    "plt.plot(neighbors, MSE)\n",
    "plt.xlabel('Number of Neighbors K')\n",
    "plt.ylabel('Misclassification Error')\n",
    "plt.show()"
   ]
  },
  {
   "cell_type": "markdown",
   "metadata": {},
   "source": [
    "7) Run the KNN model and show the predicted outcomes to get some visual as to if they are all 1's, all 0's or a good mix"
   ]
  },
  {
   "cell_type": "code",
   "execution_count": 22,
   "metadata": {},
   "outputs": [
    {
     "data": {
      "text/plain": [
       "array([0, 1, 0, 0, 0, 1, 1, 0, 1, 1, 0, 0, 1, 0, 1, 0, 1, 0, 1, 0, 0, 0, 1,\n",
       "       1, 1, 0, 1, 0, 1, 0, 0, 0, 1, 1, 1, 1, 1, 0, 1, 1, 0, 0, 0, 0, 1, 1,\n",
       "       0, 1, 0, 0, 0, 0, 0, 1, 1, 0, 1, 1, 0, 1, 0, 0, 0, 1, 1, 1, 1, 0, 1,\n",
       "       1, 0, 1, 1, 0, 1, 0, 1, 0, 0, 1, 1, 0, 0, 0, 0, 0, 0, 0, 1, 1, 1, 0,\n",
       "       1, 0, 0, 1, 0, 0, 0, 0, 0, 0, 1, 0, 0, 0, 1, 0, 0, 0, 0, 0, 1, 1, 0,\n",
       "       1, 1, 1, 1, 1, 1, 0, 1, 0, 1, 1, 1, 0, 1, 0, 0, 1, 0, 1, 0, 0, 1, 0,\n",
       "       1, 1, 1, 1, 0, 1, 0, 0, 1, 0, 1, 0, 1, 0, 0, 0, 0, 0, 0, 1, 0, 0, 1,\n",
       "       1, 0, 0, 1, 0, 1, 0, 1, 1, 1, 0, 1, 1, 1, 0, 1, 1, 0, 1, 0, 1, 0, 1,\n",
       "       0, 0, 1, 1, 1, 0, 1, 0, 1, 0, 0, 1, 0, 0, 1, 1, 1, 1, 0, 0, 0, 0, 1,\n",
       "       1, 0, 0, 0, 1, 1, 0, 0, 0, 1, 1, 1, 0, 0, 0, 1, 0, 1, 1, 0, 1, 1, 1,\n",
       "       1, 0, 0, 1])"
      ]
     },
     "execution_count": 22,
     "metadata": {},
     "output_type": "execute_result"
    }
   ],
   "source": [
    "# Train model using optimal neighbors value found previously\n",
    "\n",
    "clf = KNeighborsClassifier(n_neighbors=optimal_k)\n",
    "\n",
    "# Fit the model\n",
    "clf.fit(X_train, y_train)\n",
    "\n",
    "# Make predictions\n",
    "predicted = clf.predict(X_test)\n",
    "predicted"
   ]
  },
  {
   "cell_type": "markdown",
   "metadata": {},
   "source": [
    "8) Now this section calculates all the important evaluation metrics and prints them out"
   ]
  },
  {
   "cell_type": "code",
   "execution_count": 24,
   "metadata": {},
   "outputs": [
    {
     "name": "stdout",
     "output_type": "stream",
     "text": [
      "Percent correct = 85.043%\n",
      "Percent predicted 1, should be 0 (Less Bad) = 12.393%\n",
      "Percent predicted 0, should be 1 (Very Bad) = 2.564%\n",
      "RMSE = 0.38675\n",
      "Mean Error = 0.14957\n",
      "             precision    recall  f1-score   support\n",
      "\n",
      "          0       0.95      0.80      0.87       144\n",
      "          1       0.74      0.93      0.83        90\n",
      "\n",
      "avg / total       0.87      0.85      0.85       234\n",
      "\n"
     ]
    }
   ],
   "source": [
    "from sklearn import metrics\n",
    "# Print out some important statistics\n",
    "\n",
    "accuracy = predicted - y_test\n",
    "\n",
    "correctness = float(len(accuracy[accuracy == 0]))/len(accuracy)\n",
    "underestimation = float(len(accuracy[accuracy > 0]))/len(accuracy)\n",
    "overestimation = float(len(accuracy[accuracy < 0]))/len(accuracy)\n",
    "print('Percent correct = {0:0.3f}%'.format(correctness*100))\n",
    "print('Percent predicted 1, should be 0 (Less Bad) = {0:0.3f}%'.format(underestimation*100))\n",
    "print('Percent predicted 0, should be 1 (Very Bad) = {0:0.3f}%'.format(overestimation*100))\n",
    "\n",
    "root_mean_squared_error = np.sqrt(float(sum(np.square(accuracy)))/len(accuracy))\n",
    "print('RMSE = {0:0.5f}'.format(root_mean_squared_error))\n",
    "\n",
    "mean_absolute_value_error = float(sum(abs(accuracy)))/len(accuracy)\n",
    "print('Mean Error = {0:0.5f}'.format(mean_absolute_value_error))\n",
    "\n",
    "\n",
    "print(metrics.classification_report(y_test, predicted, labels=[0,1]))"
   ]
  },
  {
   "cell_type": "markdown",
   "metadata": {},
   "source": [
    "9) This code plots the confusion matrix"
   ]
  },
  {
   "cell_type": "code",
   "execution_count": 26,
   "metadata": {
    "scrolled": false
   },
   "outputs": [
    {
     "name": "stdout",
     "output_type": "stream",
     "text": [
      "Normalized confusion matrix\n",
      "[[ 0.8   0.2 ]\n",
      " [ 0.07  0.93]]\n"
     ]
    },
    {
     "data": {
      "image/png": "[encoded data removed]",
      "text/plain": [
       "<matplotlib.figure.Figure at 0x193ef5048>"
      ]
     },
     "metadata": {},
     "output_type": "display_data"
    }
   ],
   "source": [
    "import itertools\n",
    "import numpy as np\n",
    "import matplotlib.pyplot as plt\n",
    "\n",
    "from sklearn import svm, datasets\n",
    "from sklearn.metrics import confusion_matrix\n",
    "\n",
    "class_names = np.array([0,1])\n",
    "\n",
    "def plot_confusion_matrix(cm, classes,\n",
    "                          normalize=False,\n",
    "                          title='Confusion matrix',\n",
    "                          cmap=plt.cm.Blues):\n",
    "    \"\"\"\n",
    "    This function prints and plots the confusion matrix.\n",
    "    Normalization can be applied by setting `normalize=True`.\n",
    "    \"\"\"\n",
    "    plt.imshow(cm, interpolation='nearest', cmap=cmap)\n",
    "    plt.title(title)\n",
    "    plt.colorbar()\n",
    "    tick_marks = np.arange(len(classes))\n",
    "    plt.xticks(tick_marks, classes, rotation=45)\n",
    "    plt.yticks(tick_marks, classes)\n",
    "\n",
    "    if normalize:\n",
    "        cm = cm.astype('float') / cm.sum(axis=1)[:, np.newaxis]\n",
    "        print(\"Normalized confusion matrix\")\n",
    "    else:\n",
    "        print('Confusion matrix, without normalization')\n",
    "\n",
    "    print(cm)\n",
    "\n",
    "    thresh = cm.max() / 2.\n",
    "    for i, j in itertools.product(range(cm.shape[0]), range(cm.shape[1])):\n",
    "        if normalize:\n",
    "            plt.text(j, i, \"{0:0.2f}%\".format(cm[i, j]*100),\n",
    "                     horizontalalignment=\"center\",\n",
    "                     color=\"white\" if cm[i, j] > thresh else \"black\")\n",
    "        else:\n",
    "            plt.text(j, i, cm[i, j],\n",
    "                     horizontalalignment=\"center\",\n",
    "                     color=\"white\" if cm[i, j] > thresh else \"black\")\n",
    "    \n",
    "    plt.tight_layout()\n",
    "    plt.ylabel('True label')\n",
    "    plt.xlabel('Predicted label')\n",
    "\n",
    "# Compute confusion matrix\n",
    "cnf_matrix = confusion_matrix(y_test, predicted)\n",
    "np.set_printoptions(precision=2)\n",
    "\n",
    "# Plot non-normalized confusion matrix\n",
    "#plt.figure()\n",
    "#plot_confusion_matrix(cnf_matrix, classes=class_names,\n",
    "#                      title='Confusion matrix, without normalization')\n",
    "\n",
    "# Plot normalized confusion matrix\n",
    "plt.figure()\n",
    "plot_confusion_matrix(cnf_matrix, classes=class_names, normalize=True,\n",
    "                      title='Normalized confusion matrix')\n",
    "\n",
    "plt.show()"
   ]
  },
  {
   "cell_type": "markdown",
   "metadata": {},
   "source": [
    "10) This code plots the training data in a dot product vs. Jaccard similarity graph to visualize how the KNN might be making a distinction "
   ]
  },
  {
   "cell_type": "code",
   "execution_count": 27,
   "metadata": {},
   "outputs": [
    {
     "name": "stdout",
     "output_type": "stream",
     "text": [
      "Number of 1's: 379\n",
      "Number of 0's: 556\n"
     ]
    },
    {
     "data": {
      "image/png": "[encoded data removed]",
      "text/plain": [
       "<matplotlib.figure.Figure at 0x16c3998d0>"
      ]
     },
     "metadata": {},
     "output_type": "display_data"
    }
   ],
   "source": [
    "ones_df = training_data_df.loc[training_data_df['rating'] == 1]\n",
    "zeros_df = training_data_df.loc[training_data_df['rating'] == 0]\n",
    "\n",
    "print(\"Number of 1's: {}\".format(ones_df.shape[0]))\n",
    "print(\"Number of 0's: {}\".format(zeros_df.shape[0]))\n",
    "\n",
    "ax = ones_df.plot.scatter(x='jaccard', y='dot_product', color='r', label='Ones')\n",
    "zeros_df.plot.scatter(x='jaccard', y='dot_product', color='b', label='Zeros', ax=ax)\n",
    "plt.show()"
   ]
  },
  {
   "cell_type": "markdown",
   "metadata": {},
   "source": [
    "11) This code zooms in on the above plot to see the values better closer to zero"
   ]
  },
  {
   "cell_type": "code",
   "execution_count": 28,
   "metadata": {},
   "outputs": [
    {
     "data": {
      "image/png": "[encoded data removed]",
      "text/plain": [
       "<matplotlib.figure.Figure at 0x16c740160>"
      ]
     },
     "metadata": {},
     "output_type": "display_data"
    }
   ],
   "source": [
    "ones_df = ones_df.loc[ones_df['jaccard'] <= 0.1]\n",
    "zeros_df = zeros_df.loc[zeros_df['jaccard'] <= 0.1]\n",
    "ones_df = ones_df.loc[ones_df['dot_product'] <= 0.1]\n",
    "zeros_df = zeros_df.loc[zeros_df['dot_product'] <= 0.1]\n",
    "\n",
    "ax = ones_df.plot.scatter(x='jaccard', y='dot_product', color='r', label='Ones')\n",
    "zeros_df.plot.scatter(x='jaccard', y='dot_product', color='b', label='Zeros', ax=ax)\n",
    "plt.show()"
   ]
  }
 ],
 "metadata": {
  "kernelspec": {
   "display_name": "Python 3",
   "language": "python",
   "name": "python3"
  },
  "language_info": {
   "codemirror_mode": {
    "name": "ipython",
    "version": 3
   },
   "file_extension": ".py",
   "mimetype": "text/x-python",
   "name": "python",
   "nbconvert_exporter": "python",
   "pygments_lexer": "ipython3",
   "version": "3.6.0"
  }
 },
 "nbformat": 4,
 "nbformat_minor": 2
}
